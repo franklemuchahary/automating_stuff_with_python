{
 "cells": [
  {
   "cell_type": "code",
   "execution_count": 1,
   "metadata": {},
   "outputs": [],
   "source": [
    "import re\n",
    "import requests as r\n",
    "import speech_recognition as sr\n",
    "from IPython.core.display import display, HTML\n",
    "from IPython.display import IFrame, Audio"
   ]
  },
  {
   "cell_type": "code",
   "execution_count": 2,
   "metadata": {
    "tags": []
   },
   "outputs": [],
   "source": [
    "def speech_to_text():\n",
    "    '''\n",
    "    Function listens for word and fetches meaning from https://www.vocabulary.com/\n",
    "    Also fetches the audio file with the correct pronunciation\n",
    "    \n",
    "    Returns:\n",
    "        url2: url of the page with meaning to be rendered with IFrames\n",
    "        audio_url: url of the audio file with correct pronunciation\n",
    "    '''\n",
    "    recog = sr.Recognizer()\n",
    "    \n",
    "    with sr.Microphone() as source:\n",
    "        print(\"Say the word or spell it out.\")\n",
    "        audio_text = recog.listen(source)\n",
    "        print(\"Time Over, Thanks\")\n",
    "    \n",
    "        # recoginize_() method will throw a request error if the API is unreachable, hence using exception handling\n",
    "        try:\n",
    "            # using google speech recognition\n",
    "            word = recog.recognize_google(audio_text, language = \"en-IN\")\n",
    "            word = word.replace(' ', '')\n",
    "            \n",
    "            print(\"\\n\")\n",
    "            print(\"================\"*3, end=\"\\n\")\n",
    "            print('\\033[1m' + \"Word You Said: \" + word + '\\033[0m')\n",
    "        except:\n",
    "            word = \"error\"\n",
    "            print(\"Sorry, I did not get that\")\n",
    "          \n",
    "        print(\"================\"*3, end=\"\\n\\n\")\n",
    "        \n",
    "        print(\"Go Ahead? Yes/No (Say 'No' to manually enter word) \")\n",
    "        try:\n",
    "            yes_no = recog.listen(source)\n",
    "            yes_no_word = recog.recognize_google(yes_no, language = \"en-IN\")\n",
    "        except:\n",
    "            yes_no_word = \"no\"\n",
    "            \n",
    "        if \"yes\" in yes_no_word:\n",
    "            url1 = \"https://www.vocabulary.com/dictionary/definition.ajax?search=\" + word + \"&lang=en\"\n",
    "            url2 = \"https://www.vocabulary.com/dictionary/\"+word\n",
    "        else:\n",
    "            word = input()\n",
    "            url1 = \"https://www.vocabulary.com/dictionary/definition.ajax?search=\" + word + \"&lang=en\"\n",
    "            url2 = \"https://www.vocabulary.com/dictionary/\"+word\n",
    "            \n",
    "        ### getting url for audio\n",
    "        try:\n",
    "            audio_file_code = re.search(r'(data-audio=\")(\\w\\/\\w+)(\\\")', r.get(url1).text).group(2)\n",
    "            audio_url = \"https://audio.vocab.com/1.0/us/\" + audio_file_code + \".mp3\"\n",
    "        except:\n",
    "            audio_url = \"https://audio.vocab.com/1.0/us/E/1C0T9DXP6EL44.mp3\"\n",
    "            \n",
    "        return url1, audio_url"
   ]
  },
  {
   "cell_type": "code",
   "execution_count": 3,
   "metadata": {},
   "outputs": [
    {
     "name": "stdout",
     "output_type": "stream",
     "text": [
      "Say the word or spell it out.\n",
      "Time Over, Thanks\n",
      "\n",
      "\n",
      "================================================\n",
      "\u001b[1mWord You Said: automation\u001b[0m\n",
      "================================================\n",
      "\n",
      "Go Ahead? Yes/No (Say 'No' to manually enter word) \n",
      "================================================================================================================\n",
      "\n"
     ]
    },
    {
     "data": {
      "text/html": [
       "\n",
       "        <iframe\n",
       "            width=\"700\"\n",
       "            height=\"1000\"\n",
       "            src=\"https://www.vocabulary.com/dictionary/definition.ajax?search=automation&lang=en\"\n",
       "            frameborder=\"0\"\n",
       "            allowfullscreen\n",
       "        ></iframe>\n",
       "        "
      ],
      "text/plain": [
       "<IPython.lib.display.IFrame at 0x10c8668e0>"
      ]
     },
     "metadata": {},
     "output_type": "display_data"
    },
    {
     "data": {
      "text/html": [
       "\n",
       "                <audio  controls=\"controls\" autoplay=\"autoplay\">\n",
       "                    <source src=\"data:audio/mpeg;base64,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\" type=\"audio/mpeg\" />\n",
       "                    Your browser does not support the audio element.\n",
       "                </audio>\n",
       "              "
      ],
      "text/plain": [
       "<IPython.lib.display.Audio object>"
      ]
     },
     "metadata": {},
     "output_type": "display_data"
    }
   ],
   "source": [
    "url, audio_url = speech_to_text()\n",
    "print(\"================\"*7, end=\"\\n\\n\")\n",
    "display(IFrame(src=url, width=700, height=1000))\n",
    "display(Audio(audio_url, autoplay=True))"
   ]
  },
  {
   "cell_type": "code",
   "execution_count": null,
   "metadata": {},
   "outputs": [],
   "source": []
  },
  {
   "cell_type": "code",
   "execution_count": null,
   "metadata": {},
   "outputs": [],
   "source": []
  }
 ],
 "metadata": {
  "kernelspec": {
   "display_name": "Python 3",
   "language": "python",
   "name": "python3"
  },
  "language_info": {
   "codemirror_mode": {
    "name": "ipython",
    "version": 3
   },
   "file_extension": ".py",
   "mimetype": "text/x-python",
   "name": "python",
   "nbconvert_exporter": "python",
   "pygments_lexer": "ipython3",
   "version": "3.8.2"
  }
 },
 "nbformat": 4,
 "nbformat_minor": 4
}
