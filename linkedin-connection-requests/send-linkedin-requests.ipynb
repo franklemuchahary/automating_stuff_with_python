{
 "cells": [
  {
   "cell_type": "markdown",
   "id": "2949e707-c035-4cd1-a3c9-fbbc4f7d4008",
   "metadata": {},
   "source": [
    "# Automatic Connection Requests for LinkedIn\n",
    "\n",
    "This notebook can be used to automatically send requests to people on LinkedIn for specific profiles that we are interested in. The profile name can be assigned into the variable `SEARCH_TERM` available below in the `Initializations` section. It uses the library `selenium` to login to LinkedIn and send connection or follow requests. <br>\n",
    "*Note: Create a file called `username.py` in some other directory. Next, add that directory to the path variable using the `sys.path.append` and import it*"
   ]
  },
  {
   "cell_type": "markdown",
   "id": "3608b4e7-2b62-4db7-a833-3e4322f59681",
   "metadata": {},
   "source": [
    "### Imports"
   ]
  },
  {
   "cell_type": "code",
   "execution_count": null,
   "id": "8b82b4fd-c39a-467b-a01a-b0d64c60f190",
   "metadata": {},
   "outputs": [],
   "source": [
    "import logging\n",
    "import time\n",
    "import traceback\n",
    "import os\n",
    "import sys\n",
    "import pandas as pd\n",
    "from dotenv import load_dotenv\n",
    "from selenium import webdriver\n",
    "from selenium.webdriver.common.by import By\n",
    "from selenium.webdriver.chrome.service import Service\n",
    "from webdriver_manager.chrome import ChromeDriverManager"
   ]
  },
  {
   "cell_type": "code",
   "execution_count": null,
   "id": "82707452-ee16-4d83-ab19-6dca21f133a6",
   "metadata": {},
   "outputs": [],
   "source": [
    "sys.path.append('../../../')\n",
    "from username import linkedin_username, linkedin_password"
   ]
  },
  {
   "cell_type": "markdown",
   "id": "4d726f84-ad41-44cf-90fe-b407a273a1ba",
   "metadata": {},
   "source": [
    "### Initializations\n"
   ]
  },
  {
   "cell_type": "code",
   "execution_count": null,
   "id": "61771a1d-200e-4d73-94da-a9995c9c0fb0",
   "metadata": {},
   "outputs": [],
   "source": [
    "SEARCH_TERM = \"Senior Data Scientist\"\n",
    "NUM_PAGES_TO_FETCH_FOR_PROFILES = 3\n",
    "\n",
    "ERROR_LOG_STRING_FORMAT = '''\n",
    "    {section_title}\n",
    "    ---\n",
    "    {description}\n",
    "    ---\n",
    "    {error_message}\n",
    "''' + '='*60 + '\\n\\n'\n",
    "\n",
    "email = linkedin_username\n",
    "password = linkedin_password"
   ]
  },
  {
   "cell_type": "markdown",
   "id": "87954b7c-062e-49eb-98bb-5a1d9bfbc2ed",
   "metadata": {},
   "source": [
    "### Helper Functions"
   ]
  },
  {
   "cell_type": "code",
   "execution_count": null,
   "id": "ffd5591f-bae0-488a-a6a5-c5935b1ec430",
   "metadata": {},
   "outputs": [],
   "source": [
    "def error_logging_helper(log_filename:str = 'all_logs.log', logger_name:str = 'error_logger'):\n",
    "    '''\n",
    "    helper function for logging errors\n",
    "    '''\n",
    "    logger = logging.getLogger(logger_name)\n",
    "    handler = logging.FileHandler(\n",
    "        filename=log_filename,\n",
    "        mode='a+'\n",
    "    )\n",
    "    log_format = logging.Formatter('%(asctime)s - %(message)s')\n",
    "    handler.setLevel(logging.INFO)\n",
    "    handler.setFormatter(log_format)\n",
    "    logger.addHandler(handler)\n",
    "    logger.setLevel(logging.INFO)\n",
    "    print(logger.getEffectiveLevel())\n",
    "\n",
    "    return logger\n",
    "\n",
    "logger = error_logging_helper('extras/all_logs.log')"
   ]
  },
  {
   "cell_type": "markdown",
   "id": "9c691ac5-7d13-49b3-ae43-e62dbf6cd6e9",
   "metadata": {},
   "source": [
    "### Enter Username and Password and Click on Login"
   ]
  },
  {
   "cell_type": "code",
   "execution_count": null,
   "id": "20e76c2f-9b07-4f72-a279-87c513cbaa30",
   "metadata": {},
   "outputs": [],
   "source": [
    "### Open Chrome Driver\n",
    "driver = webdriver.Chrome(service=Service(ChromeDriverManager().install()))\n",
    "\n",
    "### Go to linkedin URL\n",
    "driver.get(\"https://linkedin.com\")\n",
    "\n",
    "### Enter Username and Password and Click on Login\n",
    "input_elements = driver.find_elements(\n",
    "    By.XPATH,\n",
    "    \"//input[contains(@class, 'input__input' )][1]\"\n",
    ")\n",
    "input_elements[0].send_keys(email)\n",
    "input_elements[1].send_keys(password)\n",
    "\n",
    "submit_button = driver.find_elements(\n",
    "    By.XPATH,\n",
    "    \"//button[contains(@class, 'sign-in-form__submit-button')]\"\n",
    ")\n",
    "submit_button[0].click()\n",
    "\n",
    "time.sleep(7)"
   ]
  },
  {
   "cell_type": "markdown",
   "id": "1472dd5c-e9d1-41d4-8a78-2066eeb973e1",
   "metadata": {},
   "source": [
    "### Focus on Search Button, Enter Search Term, and Press Enter"
   ]
  },
  {
   "cell_type": "code",
   "execution_count": null,
   "id": "78e5c73e-964f-4a78-af0f-b213b61ecf3b",
   "metadata": {},
   "outputs": [],
   "source": [
    "try:\n",
    "    ### find search button\n",
    "    search_button = driver.find_elements(\n",
    "        By.XPATH,\n",
    "        \"//button[contains(@class, 'search-global-typeahead__collapsed-search-button')]\"\n",
    "    )\n",
    "    search_button[0].click()\n",
    "    \n",
    "except:\n",
    "    ### input search term in the search field\n",
    "    input_search_field_xpath = \"//input[contains(@class, 'search-global-typeahead__input always-show-placeholder')]\"\n",
    "    search_input_field = driver.find_elements(\n",
    "        By.XPATH, \n",
    "        input_search_field_xpath\n",
    "    )\n",
    "\n",
    "    search_input_field[0].clear()\n",
    "    search_input_field[0].send_keys(SEARCH_TERM + \"\\n\")\n",
    "    \n",
    "time.sleep(5)"
   ]
  },
  {
   "cell_type": "markdown",
   "id": "0fedf455-9059-403c-a2dc-93364d5272fc",
   "metadata": {},
   "source": [
    "### Click on \"See all people results\""
   ]
  },
  {
   "cell_type": "code",
   "execution_count": null,
   "id": "923073ef-9af3-441e-9f2c-4ddadebf9391",
   "metadata": {},
   "outputs": [],
   "source": [
    "see_all_results = driver.find_elements(\n",
    "    By.XPATH,\n",
    "    \"//a[contains(text(), 'See all people results')]\"\n",
    ")\n",
    "see_all_results[0].click()\n",
    "time.sleep(5)"
   ]
  },
  {
   "cell_type": "markdown",
   "id": "58903744-a99c-41f1-9057-48be01fa9b7e",
   "metadata": {},
   "source": [
    "### Send Connection Requests in a Loop"
   ]
  },
  {
   "cell_type": "code",
   "execution_count": null,
   "id": "3642d215-00b3-4444-b632-ac5bf4a92f8d",
   "metadata": {},
   "outputs": [],
   "source": [
    "for page_num in range(1, NUM_PAGES_TO_FETCH_FOR_PROFILES+1):    \n",
    "    try:\n",
    "        ################################\n",
    "        ### Send Connection Requests ###\n",
    "        \n",
    "        try:\n",
    "            # get all the connect buttons from the page\n",
    "            connect_buttons = driver.find_elements(\n",
    "                By.XPATH,\n",
    "                '''\n",
    "                //button[starts-with(@aria-label, 'Invite') and \n",
    "                (\n",
    "                substring(\n",
    "                    @aria-label, string-length(@aria-label) - string-length('to connect')+1\n",
    "                ) = 'to connect'\n",
    "                )]\n",
    "                '''\n",
    "            )\n",
    "\n",
    "            if len(connect_buttons) > 0:\n",
    "                for connect_single_button in connect_buttons:\n",
    "                    # click on each connect button to open the popup for sending connection request\n",
    "                    connect_single_button.click()\n",
    "                    time.sleep(2)\n",
    "\n",
    "                    send_button = driver.find_elements(\n",
    "                        By.XPATH,\n",
    "                        \"//button[@aria-label = 'Send now']\"\n",
    "                    )\n",
    "\n",
    "                    # send connection request when possible\n",
    "                    # skip scenarios where we cannot directly send connection requests\n",
    "                    if len(send_button) > 0:\n",
    "                        send_button[0].click()\n",
    "                    else:\n",
    "                        cancel_buttons = driver.find_elements(\n",
    "                            By.XPATH,\n",
    "                            \"//button[@aria-label = 'Dismiss']\"\n",
    "                        )\n",
    "                        cancel_buttons[0].click()\n",
    "                    time.sleep(2)\n",
    "            \n",
    "        except Exception as e:\n",
    "            logger.error(\n",
    "                ERROR_LOG_STRING_FORMAT.format(\n",
    "                    section_title = 'Error in Sending Connection Request to Users',\n",
    "                    description = 'Error for  Page Num: ' + str(page_num),\n",
    "                    error_message = str(e) + \"\\n\" + str(traceback.format_exc())\n",
    "                )\n",
    "            )\n",
    "            \n",
    "          \n",
    "        ################################\n",
    "        ######### Follow Users #########\n",
    "        try:\n",
    "            follow_buttons = driver.find_elements(\n",
    "                By.XPATH,\n",
    "                \"//button[@aria-label = 'Follow']\"\n",
    "            )\n",
    "\n",
    "            # follow users that we cannot directly send a connection request to but have an option to follow\n",
    "            if len(follow_buttons) > 0:\n",
    "                for follow_single_button in follow_buttons:\n",
    "                    follow_single_button.click()\n",
    "    \n",
    "        except Exception as e:\n",
    "            logger.error(\n",
    "                ERROR_LOG_STRING_FORMAT.format(\n",
    "                    section_title = 'Error in Following Users',\n",
    "                    description = 'Error for  Page Num: ' + str(page_num),\n",
    "                    error_message = str(e) + \"\\n\" + str(traceback.format_exc())\n",
    "                )\n",
    "            )\n",
    "                \n",
    "                \n",
    "        ###################################\n",
    "        ######### Click Next Page #########   \n",
    "        time.sleep(3)\n",
    "        # scroll the are where the next button will be available\n",
    "        driver.refresh()\n",
    "        driver.execute_script(\"window.scrollTo(0, 0);\")\n",
    "        driver.execute_script(\"window.scrollTo(0, 1100);\")\n",
    "        time.sleep(2)\n",
    "        # click on next and wait for sometime\n",
    "        next_button = driver.find_elements(\n",
    "            By.XPATH,\n",
    "            \"//button[contains(@class, 'artdeco-pagination__button--next')]\"\n",
    "        )[0]\n",
    "        next_button.click()\n",
    "        time.sleep(5)\n",
    "\n",
    "    except Exception as e:\n",
    "        logger.error(\n",
    "            ERROR_LOG_STRING_FORMAT.format(\n",
    "                section_title = 'Error in Sending Requests or Clicking Next Page',\n",
    "                description = 'Error for  Page Num: ' + str(page_num),\n",
    "                error_message = str(e) + \"\\n\" + str(traceback.format_exc())\n",
    "            )\n",
    "        )"
   ]
  },
  {
   "cell_type": "code",
   "execution_count": null,
   "id": "be999d19-14d6-41bf-8858-b551d9382d22",
   "metadata": {},
   "outputs": [],
   "source": [
    "driver.close()"
   ]
  }
 ],
 "metadata": {
  "kernelspec": {
   "display_name": "Python 3 (ipykernel)",
   "language": "python",
   "name": "python3"
  },
  "language_info": {
   "codemirror_mode": {
    "name": "ipython",
    "version": 3
   },
   "file_extension": ".py",
   "mimetype": "text/x-python",
   "name": "python",
   "nbconvert_exporter": "python",
   "pygments_lexer": "ipython3",
   "version": "3.9.12"
  }
 },
 "nbformat": 4,
 "nbformat_minor": 5
}
