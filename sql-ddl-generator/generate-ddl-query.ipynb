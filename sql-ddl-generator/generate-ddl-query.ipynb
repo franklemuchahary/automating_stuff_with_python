{
 "cells": [
  {
   "cell_type": "code",
   "execution_count": 15,
   "id": "56233794-6124-4752-8aff-f8f94e6f228e",
   "metadata": {},
   "outputs": [],
   "source": [
    "import logging\n",
    "import openpyxl\n",
    "import re\n",
    "import traceback\n",
    "import pandas as pd\n",
    "import requests as rq\n",
    "from collections import defaultdict\n",
    "from random import randint"
   ]
  },
  {
   "cell_type": "markdown",
   "id": "0a66d571-2342-4812-972b-d41438a5a423",
   "metadata": {},
   "source": [
    "### Define Constants"
   ]
  },
  {
   "cell_type": "code",
   "execution_count": 16,
   "id": "2b58a6ed-c1eb-4f44-86a9-9eb73f2fe2e4",
   "metadata": {},
   "outputs": [],
   "source": [
    "GOOGLE_SHEET_LINK = 'https://docs.google.com/spreadsheets/d/1u9xez7cCm2zTK65cn1W/edit#gid=0'\n",
    "\n",
    "EXCEL_FILENAME = 'google_sheet_excel.xlsx'\n",
    "\n",
    "SQL_IMPLEMENTATION = 'postgres' ### postgres, mysql, sqlserver\n",
    "\n",
    "SHOW_PRINT = False\n",
    "\n",
    "ERROR_LOG_STRING_FORMAT = '''\n",
    "    {section_title}\n",
    "    ---\n",
    "    {description}\n",
    "    ---\n",
    "    {error_message}\n",
    "''' + '='*60 + '\\n\\n'"
   ]
  },
  {
   "cell_type": "code",
   "execution_count": 17,
   "id": "3eec13aa-c148-48a3-89a5-e9f24698c2bd",
   "metadata": {},
   "outputs": [],
   "source": [
    "INCONSISTENT_COLUMNS = defaultdict(\n",
    "    lambda : {'datetime' : 'datetime'},\n",
    "    {\n",
    "        'postgres': {'datetime' : 'timestamp'}\n",
    "    }\n",
    ")\n",
    "\n",
    "DTYPES_MAPPING = {\n",
    "    'object' : 'varchar(255)',\n",
    "    'int' : 'int',\n",
    "    'float' : 'float'\n",
    "}\n",
    "\n",
    "DTYPES_MAPPING = {**DTYPES_MAPPING, **INCONSISTENT_COLUMNS[SQL_IMPLEMENTATION]}\n",
    "if SHOW_PRINT:\n",
    "    print(DTYPES_MAPPING)"
   ]
  },
  {
   "cell_type": "markdown",
   "id": "429e99da-2589-4045-ae36-ade746073611",
   "metadata": {},
   "source": [
    "### Logging Helper"
   ]
  },
  {
   "cell_type": "code",
   "execution_count": 12,
   "id": "ec89ce0b-2423-46f8-b241-3a60f30147a9",
   "metadata": {},
   "outputs": [
    {
     "name": "stdout",
     "output_type": "stream",
     "text": [
      "20\n"
     ]
    }
   ],
   "source": [
    "def error_logging_helper(log_filename:str = 'all_logs.log', logger_name:str = 'error_logger'):\n",
    "    '''\n",
    "    helper function for logging errors\n",
    "    '''\n",
    "    logger = logging.getLogger(logger_name)\n",
    "    handler = logging.FileHandler(\n",
    "        filename=log_filename,\n",
    "        mode='a+'\n",
    "    )\n",
    "    log_format = logging.Formatter('%(asctime)s - %(message)s')\n",
    "    handler.setLevel(logging.INFO)\n",
    "    handler.setFormatter(log_format)\n",
    "    logger.addHandler(handler)\n",
    "    logger.setLevel(logging.INFO)\n",
    "    print(logger.getEffectiveLevel())\n",
    "    \n",
    "    return logger\n",
    "\n",
    "logger = error_logging_helper('all_logs.log')"
   ]
  },
  {
   "cell_type": "markdown",
   "id": "7313dbaa-1009-4bbd-901f-0eb2de511246",
   "metadata": {},
   "source": [
    "### Download Google Sheet as Excel"
   ]
  },
  {
   "cell_type": "code",
   "execution_count": 43,
   "id": "fe462109-c6e0-411f-9b27-986b134d0409",
   "metadata": {},
   "outputs": [],
   "source": [
    "def download_xlsx_from_google_sheet():\n",
    "    '''\n",
    "    function for downloading google sheet as xlsx file\n",
    "    \n",
    "    Returns: boolean value based on success/failure\n",
    "    '''\n",
    "    return_bool_value = True\n",
    "    \n",
    "    if 'docs.google.com' not in GOOGLE_SHEET_LINK and 'spreadsheets' not in GOOGLE_SHEET_LINK:\n",
    "        logger.error(\n",
    "            ERROR_LOG_STRING_FORMAT.format(\n",
    "                section_title = 'Error occured in downloading google sheet. Please check google sheet link',\n",
    "                description = GOOGLE_SHEET_LINK,\n",
    "                error_message = GOOGLE_SHEET_LINK\n",
    "            )\n",
    "        )\n",
    "        return_bool_value = False\n",
    "    else:\n",
    "        try:\n",
    "            ### extract id and try downloading google sheet\n",
    "            google_sheet_id = re.search(\n",
    "                pattern = r'(\\/d\\/)(\\w+)(\\/)',\n",
    "                string = GOOGLE_SHEET_LINK\n",
    "            ).group(2)\n",
    "\n",
    "            sheet_download_rq = rq.get(\n",
    "                url = 'https://docs.google.com/spreadsheets/u/0/d/' + google_sheet_id + \"/export\",\n",
    "                params = {\n",
    "                    'format' : 'xlsx',\n",
    "                    'id' : google_sheet_id\n",
    "                },\n",
    "                stream = True\n",
    "            )\n",
    "    \n",
    "            ### if permission error log error else create xlsx file\n",
    "            if 'sign in' in sheet_download_rq.text.lower():\n",
    "                logger.error(\n",
    "                    ERROR_LOG_STRING_FORMAT.format(\n",
    "                        section_title = 'Error occured in downloading google sheet. Please check google sheet link',\n",
    "                        description = GOOGLE_SHEET_LINK,\n",
    "                        error_message = sheet_download_rq.url\n",
    "                    )\n",
    "                )\n",
    "                return_bool_value = False\n",
    "            else:\n",
    "                with sheet_download_rq as f:\n",
    "                    with open(EXCEL_FILENAME, 'wb') as output:\n",
    "                        output.write(f.content)\n",
    "                    \n",
    "                return_bool_value = True\n",
    "            \n",
    "        except Exception as e:\n",
    "            logger.error(\n",
    "                ERROR_LOG_STRING_FORMAT.format(\n",
    "                    section_title = 'Error occured in downloading google sheet. Please check google sheet link: ' + GOOGLE_SHEET_LINK,\n",
    "                    description = str(e),\n",
    "                    error_message = str(traceback.format_exc())\n",
    "                )\n",
    "            )\n",
    "            \n",
    "            return_bool_value = False\n",
    "            \n",
    "    return return_bool_value"
   ]
  },
  {
   "cell_type": "markdown",
   "id": "b170e4c9-32e2-4049-8480-cd5a4ea036d3",
   "metadata": {},
   "source": [
    "### Open Downloaded Excel and Convert to DataFrame"
   ]
  },
  {
   "cell_type": "code",
   "execution_count": 6,
   "id": "454d1e9f-8b72-48ef-b137-4e6a39e95cc9",
   "metadata": {},
   "outputs": [],
   "source": [
    "def convert_sheets_to_dfs(workbook:openpyxl.workbook.workbook.Workbook, sheet_name:str):\n",
    "    '''\n",
    "    takes the sheetname and openpyxl workbook and returns a dataframe \n",
    "    and dataypes of each column\n",
    "    \n",
    "    Inputs:\n",
    "        workbook: openpyxl workbook variable obtained using openpyxl.load_workbook()\n",
    "        sheet_name: name of the sheet\n",
    "    \n",
    "    Returns: dataframe df and df.dtypes\n",
    "    '''\n",
    "    sheet_data = workbook[sheet_name].values\n",
    "    df = pd.DataFrame(sheet_data, columns = next(sheet_data))\n",
    "    df = df.dropna(axis=1, how='all').dropna(axis=0, how='all')\n",
    "    \n",
    "    if SHOW_PRINT:\n",
    "        print(df.head(3), end=\"\\n\\n\")\n",
    "        print(df.dtypes, end=\"\\n\\n\")\n",
    "    \n",
    "    return df, df.dtypes"
   ]
  },
  {
   "cell_type": "markdown",
   "id": "abebb2f2-9c5d-4cc4-aca7-7d108fa66c52",
   "metadata": {},
   "source": [
    "### Helper Functions for Generating Queries"
   ]
  },
  {
   "cell_type": "code",
   "execution_count": 7,
   "id": "e5ae373a-b9a7-49af-97d6-d245f2874470",
   "metadata": {},
   "outputs": [],
   "source": [
    "def generate_create_table_query(dtype_df:pd.core.series.Series, table_name:str):\n",
    "    '''\n",
    "    function for generating the create ddl query\n",
    "    \n",
    "    Inputs:\n",
    "        - dtype_df: pandas series with dtypes obtained form the `convert_sheets_to_dfs` function\n",
    "        - table_name: name of the table to be created\n",
    "        \n",
    "    Returns:\n",
    "        - string with create ddl query\n",
    "    '''\n",
    "    \n",
    "    create_table_structure = '''\n",
    "    create table {table_name} (\n",
    "    {columns_dtypes}\n",
    "    );\n",
    "    '''\n",
    "    \n",
    "    complete_colname_dtype_string = ''\n",
    "\n",
    "    for col, dtype in dtype_df.iteritems():\n",
    "        cleaned_dtype = re.search(r'([a-zA-Z]+)', str(dtype)).group()\n",
    "        colname_dtype_string = '\\t' + col + ' ' + DTYPES_MAPPING[cleaned_dtype] + ',\\n'\n",
    "        complete_colname_dtype_string += colname_dtype_string\n",
    "\n",
    "    complete_colname_dtype_string = complete_colname_dtype_string.rsplit(\n",
    "        sep=',',\n",
    "        maxsplit=1\n",
    "    )[0]\n",
    "    \n",
    "    create_table_query_populated = create_table_structure.format(\n",
    "        table_name = table_name,\n",
    "        columns_dtypes = complete_colname_dtype_string\n",
    "    )\n",
    "    \n",
    "    print(create_table_query_populated)\n",
    "    \n",
    "    return create_table_query_populated"
   ]
  },
  {
   "cell_type": "code",
   "execution_count": 8,
   "id": "77a278f4-481d-40fc-84c7-43acd7a2d119",
   "metadata": {},
   "outputs": [],
   "source": [
    "def generate_insert_values_query(df:pd.DataFrame, table_name:str):\n",
    "    '''\n",
    "    function for generating the `insert into table values` query\n",
    "    \n",
    "    Inputs:\n",
    "        - df: pandas dataframe obtained from the `convert_sheets_to_dfs` function\n",
    "        - table_name: name of the table to be created\n",
    "        \n",
    "    Returns:\n",
    "        - string with insert query\n",
    "    '''\n",
    "    \n",
    "    insert_query_structure = '''\n",
    "    insert into \n",
    "        {table_name} ({col_names}) \n",
    "    values\n",
    "    {values_query_string}\n",
    "    ;\n",
    "    \n",
    "    select * from {table_name};\n",
    "    '''\n",
    "    \n",
    "    ### create a new col in the dataframe with all other columns concatenated as string\n",
    "    df['final_col'] = ''\n",
    "    \n",
    "    for col in df.dtypes.index:\n",
    "        if col != 'final_col':\n",
    "            df['final_col'] += \"'\" + df[col].astype(str) + \"', \"\n",
    "            \n",
    "    df['final_col'] = df['final_col'].apply(lambda x: \"\\t(\" + x.rsplit(sep=',', maxsplit=1)[0] + \")\")\n",
    "    \n",
    "    insert_values_query_string = ',\\n'.join(df['final_col'].values)\n",
    "    colnames_string = ', '.join(df.drop('final_col', axis=1).dtypes.index)\n",
    "    \n",
    "    insert_query_populated = insert_query_structure.format(\n",
    "        table_name = table_name,\n",
    "        col_names = colnames_string,\n",
    "        values_query_string = insert_values_query_string\n",
    "    )\n",
    "    \n",
    "    print(insert_query_populated)\n",
    "    \n",
    "    return insert_query_populated"
   ]
  },
  {
   "cell_type": "markdown",
   "id": "eeee43cf-5f05-47cf-880b-e93ae5ef0ca0",
   "metadata": {},
   "source": [
    "### Connect Everything Together"
   ]
  },
  {
   "cell_type": "code",
   "execution_count": 45,
   "id": "cf6a3f85-29e5-456f-a989-5cda545698c8",
   "metadata": {},
   "outputs": [
    {
     "name": "stdout",
     "output_type": "stream",
     "text": [
      "False\n"
     ]
    }
   ],
   "source": [
    "download_check = download_xlsx_from_google_sheet()\n",
    "\n",
    "if download_check:\n",
    "    wb = openpyxl.load_workbook(EXCEL_FILENAME)\n",
    "    print(wb.sheetnames)\n",
    "    \n",
    "    for sheet_name in wb.sheetnames:\n",
    "        ### clean up sheet name to make a valid table name\n",
    "        table_name = sheet_name.replace(' ', '')\n",
    "        table_name = ''.join(\n",
    "            re.findall('(\\w+)', table_name)\n",
    "        )\n",
    "        if table_name == '':\n",
    "            table_name = 'table_'+str(randint(1, 100000))\n",
    "\n",
    "        print(\"###\"*15, \" \", sheet_name, \":\", table_name, \" \", \"###\"*15)\n",
    "\n",
    "        df, dtype_df = convert_sheets_to_dfs(wb, sheet_name)\n",
    "\n",
    "        print(\"~~~\"*15)\n",
    "        create_table_query_populated = generate_create_table_query(dtype_df, table_name)\n",
    "        insert_query_populated = generate_insert_values_query(df, table_name)\n",
    "        print(\"~~~\"*15)\n",
    "\n",
    "        print(\"###\"*35, end=\"\\n\\n\")\n",
    "else:\n",
    "    print(download_check)"
   ]
  },
  {
   "cell_type": "code",
   "execution_count": null,
   "id": "53ea6d53-ce26-429b-9e83-57ddcaf78042",
   "metadata": {},
   "outputs": [],
   "source": []
  }
 ],
 "metadata": {
  "kernelspec": {
   "display_name": "Python 3",
   "language": "python",
   "name": "python3"
  },
  "language_info": {
   "codemirror_mode": {
    "name": "ipython",
    "version": 3
   },
   "file_extension": ".py",
   "mimetype": "text/x-python",
   "name": "python",
   "nbconvert_exporter": "python",
   "pygments_lexer": "ipython3",
   "version": "3.8.2"
  }
 },
 "nbformat": 4,
 "nbformat_minor": 5
}
